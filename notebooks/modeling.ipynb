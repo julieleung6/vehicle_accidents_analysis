{
 "cells": [
  {
   "cell_type": "code",
   "execution_count": null,
   "id": "Dzww6TfCKSht",
   "metadata": {
    "colab": {
     "base_uri": "https://localhost:8080/"
    },
    "executionInfo": {
     "elapsed": 4798,
     "status": "ok",
     "timestamp": 1709133363447,
     "user": {
      "displayName": "Julie Leung",
      "userId": "16683043331109616797"
     },
     "user_tz": 300
    },
    "id": "Dzww6TfCKSht",
    "outputId": "d4c8845a-0531-4934-aa20-1de8fa84b1a5"
   },
   "outputs": [
    {
     "name": "stdout",
     "output_type": "stream",
     "text": [
      "Mounted at /content/drive\n"
     ]
    }
   ],
   "source": [
    "from google.colab import drive\n",
    "drive.mount('/content/drive', force_remount=True)"
   ]
  },
  {
   "cell_type": "code",
   "execution_count": 1,
   "id": "ef090b6a-1a3a-4406-8539-6a1534f0cb79",
   "metadata": {
    "colab": {
     "base_uri": "https://localhost:8080/",
     "height": 1000
    },
    "executionInfo": {
     "elapsed": 404800,
     "status": "ok",
     "timestamp": 1709133768245,
     "user": {
      "displayName": "Julie Leung",
      "userId": "16683043331109616797"
     },
     "user_tz": 300
    },
    "id": "ef090b6a-1a3a-4406-8539-6a1534f0cb79",
    "outputId": "7bd5d097-4c68-4860-d476-1f84cb32ecf4"
   },
   "outputs": [],
   "source": [
    "run /content/drive/MyDrive/accidents/EDA.ipynb"
   ]
  },
  {
   "cell_type": "code",
   "execution_count": 2,
   "id": "ff47223c-160b-4ee7-aeb7-b2dd184b2d04",
   "metadata": {
    "colab": {
     "base_uri": "https://localhost:8080/"
    },
    "executionInfo": {
     "elapsed": 5445,
     "status": "ok",
     "timestamp": 1709133773681,
     "user": {
      "displayName": "Julie Leung",
      "userId": "16683043331109616797"
     },
     "user_tz": 300
    },
    "id": "ff47223c-160b-4ee7-aeb7-b2dd184b2d04",
    "outputId": "210dde7d-c72a-4278-e116-a9bb27e73d4f"
   },
   "outputs": [],
   "source": [
    "# pip install shap"
   ]
  },
  {
   "cell_type": "code",
   "execution_count": null,
   "id": "7214ef3d-a2cc-4b89-9b9e-dfa91235aa7d",
   "metadata": {
    "id": "7214ef3d-a2cc-4b89-9b9e-dfa91235aa7d"
   },
   "outputs": [],
   "source": [
    "import pandas as pd\n",
    "import numpy as np\n",
    "import matplotlib.pyplot as plt\n",
    "import seaborn as sns\n",
    "\n",
    "from sklearn.model_selection import train_test_split, GridSearchCV\n",
    "from sklearn.linear_model import LogisticRegression, Lasso\n",
    "from sklearn.ensemble import RandomForestClassifier\n",
    "from sklearn import metrics, preprocessing\n",
    "from sklearn.metrics import ConfusionMatrixDisplay, classification_report, accuracy_score, r2_score\n",
    "from sklearn.metrics import recall_score, precision_score, precision_recall_curve, mean_absolute_error, mean_squared_error\n",
    "from sklearn.preprocessing import StandardScaler, LabelEncoder, OneHotEncoder\n",
    "from sklearn.impute import SimpleImputer\n",
    "from imblearn.over_sampling import SMOTE\n",
    "from imblearn.under_sampling import NearMiss\n",
    "from imblearn.pipeline import Pipeline\n",
    "\n",
    "from collections import Counter\n",
    "\n",
    "import shap"
   ]
  },
  {
   "cell_type": "code",
   "execution_count": null,
   "id": "0aa9b617-aa24-4367-9cf3-af3605af96a9",
   "metadata": {
    "id": "0aa9b617-aa24-4367-9cf3-af3605af96a9"
   },
   "outputs": [],
   "source": [
    "# #uploading the dataset\n",
    "# new_df = pd.read_csv('../data/new_df.csv')"
   ]
  },
  {
   "cell_type": "code",
   "execution_count": null,
   "id": "443af7af-4e4a-4d75-a530-89625697d56b",
   "metadata": {
    "colab": {
     "base_uri": "https://localhost:8080/"
    },
    "executionInfo": {
     "elapsed": 8,
     "status": "ok",
     "timestamp": 1709133773959,
     "user": {
      "displayName": "Julie Leung",
      "userId": "16683043331109616797"
     },
     "user_tz": 300
    },
    "id": "443af7af-4e4a-4d75-a530-89625697d56b",
    "outputId": "77cef88d-c0a0-40b3-abec-f051b354c70e"
   },
   "outputs": [
    {
     "name": "stdout",
     "output_type": "stream",
     "text": [
      "<class 'pandas.core.frame.DataFrame'>\n",
      "Int64Index: 3859011 entries, 728 to 7728393\n",
      "Data columns (total 38 columns):\n",
      " #   Column                 Dtype         \n",
      "---  ------                 -----         \n",
      " 0   Severity               int64         \n",
      " 1   Start_Time             datetime64[ns]\n",
      " 2   End_Time               datetime64[ns]\n",
      " 3   Start_Lat              float64       \n",
      " 4   Start_Lng              float64       \n",
      " 5   Distance(mi)           float64       \n",
      " 6   Description            object        \n",
      " 7   Street                 object        \n",
      " 8   City                   object        \n",
      " 9   County                 object        \n",
      " 10  State                  object        \n",
      " 11  Zipcode                object        \n",
      " 12  Weather_Timestamp      datetime64[ns]\n",
      " 13  Temperature(F)         float64       \n",
      " 14  Wind_Chill(F)          float64       \n",
      " 15  Humidity(%)            float64       \n",
      " 16  Pressure(in)           float64       \n",
      " 17  Visibility(mi)         float64       \n",
      " 18  Wind_Speed(mph)        float64       \n",
      " 19  Precipitation(in)      float64       \n",
      " 20  Weather_Condition      object        \n",
      " 21  Amenity                int64         \n",
      " 22  Bump                   int64         \n",
      " 23  Crossing               int64         \n",
      " 24  Give_Way               int64         \n",
      " 25  Junction               int64         \n",
      " 26  No_Exit                int64         \n",
      " 27  Railway                int64         \n",
      " 28  Roundabout             int64         \n",
      " 29  Station                int64         \n",
      " 30  Stop                   int64         \n",
      " 31  Traffic_Calming        int64         \n",
      " 32  Traffic_Signal         int64         \n",
      " 33  Turning_Loop           int64         \n",
      " 34  Sunset                 float64       \n",
      " 35  Civil_Twilight         float64       \n",
      " 36  Nautical_Twilight      float64       \n",
      " 37  Astronomical_Twilight  float64       \n",
      "dtypes: datetime64[ns](3), float64(14), int64(14), object(7)\n",
      "memory usage: 1.1+ GB\n"
     ]
    }
   ],
   "source": [
    "new_df.info()"
   ]
  },
  {
   "cell_type": "code",
   "execution_count": null,
   "id": "7e692793-d356-41dc-bba3-0779fee3f467",
   "metadata": {
    "colab": {
     "base_uri": "https://localhost:8080/"
    },
    "executionInfo": {
     "elapsed": 5,
     "status": "ok",
     "timestamp": 1709133773960,
     "user": {
      "displayName": "Julie Leung",
      "userId": "16683043331109616797"
     },
     "user_tz": 300
    },
    "id": "7e692793-d356-41dc-bba3-0779fee3f467",
    "outputId": "bfd8ac86-ea89-49d2-cc58-9fea12d071c5"
   },
   "outputs": [
    {
     "data": {
      "text/plain": [
       "0    3214835\n",
       "1     644176\n",
       "Name: Severity, dtype: int64"
      ]
     },
     "execution_count": 28,
     "metadata": {},
     "output_type": "execute_result"
    }
   ],
   "source": [
    "#seeing if we have class imbalanced\n",
    "new_df['Severity'].value_counts()"
   ]
  },
  {
   "cell_type": "code",
   "execution_count": null,
   "id": "4c656137-eb98-406a-ae7d-59a7a7c1fbee",
   "metadata": {
    "id": "4c656137-eb98-406a-ae7d-59a7a7c1fbee"
   },
   "outputs": [],
   "source": [
    "#defining the predictor/target variables\n",
    "X = new_df.drop(columns=['Severity', 'Description', 'Street', 'City', 'County', 'State', 'Zipcode', 'Weather_Condition',\n",
    "                        'Weather_Timestamp', 'Start_Time', 'End_Time'], axis=1)\n",
    "y = new_df['Severity']"
   ]
  },
  {
   "cell_type": "code",
   "execution_count": null,
   "id": "0fe4924a-410c-4013-97af-57ae8412e76c",
   "metadata": {
    "id": "0fe4924a-410c-4013-97af-57ae8412e76c"
   },
   "outputs": [],
   "source": [
    "#splitting the dataset\n",
    "X_train, X_test, y_train, y_test = train_test_split(X, y, test_size=0.25, random_state=88)"
   ]
  },
  {
   "cell_type": "code",
   "execution_count": null,
   "id": "734c385c-53b9-40af-8431-7cc6a374d401",
   "metadata": {
    "colab": {
     "base_uri": "https://localhost:8080/"
    },
    "executionInfo": {
     "elapsed": 15,
     "status": "ok",
     "timestamp": 1709133776853,
     "user": {
      "displayName": "Julie Leung",
      "userId": "16683043331109616797"
     },
     "user_tz": 300
    },
    "id": "734c385c-53b9-40af-8431-7cc6a374d401",
    "outputId": "7ca9f0a4-d9be-4749-ef5e-13bcec60f865"
   },
   "outputs": [
    {
     "data": {
      "text/plain": [
       "(2894258, 27)"
      ]
     },
     "execution_count": 31,
     "metadata": {},
     "output_type": "execute_result"
    }
   ],
   "source": [
    "X_train.shape"
   ]
  },
  {
   "cell_type": "code",
   "execution_count": null,
   "id": "c225da22-9504-45b1-9278-6feb6d95731b",
   "metadata": {
    "colab": {
     "base_uri": "https://localhost:8080/"
    },
    "executionInfo": {
     "elapsed": 10,
     "status": "ok",
     "timestamp": 1709133776853,
     "user": {
      "displayName": "Julie Leung",
      "userId": "16683043331109616797"
     },
     "user_tz": 300
    },
    "id": "c225da22-9504-45b1-9278-6feb6d95731b",
    "outputId": "15555be7-0359-49b7-93fc-99c8083b847c"
   },
   "outputs": [
    {
     "data": {
      "text/plain": [
       "(964753, 27)"
      ]
     },
     "execution_count": 32,
     "metadata": {},
     "output_type": "execute_result"
    }
   ],
   "source": [
    "X_test.shape"
   ]
  },
  {
   "cell_type": "code",
   "execution_count": null,
   "id": "c1cd60b7-49a5-44c1-96b8-a7227b3b5203",
   "metadata": {
    "colab": {
     "base_uri": "https://localhost:8080/"
    },
    "executionInfo": {
     "elapsed": 8,
     "status": "ok",
     "timestamp": 1709133776853,
     "user": {
      "displayName": "Julie Leung",
      "userId": "16683043331109616797"
     },
     "user_tz": 300
    },
    "id": "c1cd60b7-49a5-44c1-96b8-a7227b3b5203",
    "outputId": "f27ba1de-a278-4df8-9124-95b29d7417c6"
   },
   "outputs": [
    {
     "data": {
      "text/plain": [
       "(2894258,)"
      ]
     },
     "execution_count": 33,
     "metadata": {},
     "output_type": "execute_result"
    }
   ],
   "source": [
    "y_train.shape"
   ]
  },
  {
   "cell_type": "code",
   "execution_count": null,
   "id": "483ac622-75d5-4a28-bd55-9b7c4fb04c7c",
   "metadata": {
    "colab": {
     "base_uri": "https://localhost:8080/"
    },
    "executionInfo": {
     "elapsed": 6,
     "status": "ok",
     "timestamp": 1709133776854,
     "user": {
      "displayName": "Julie Leung",
      "userId": "16683043331109616797"
     },
     "user_tz": 300
    },
    "id": "483ac622-75d5-4a28-bd55-9b7c4fb04c7c",
    "outputId": "83e7529c-87d2-4957-f83e-802b7d804170"
   },
   "outputs": [
    {
     "data": {
      "text/plain": [
       "(964753,)"
      ]
     },
     "execution_count": 34,
     "metadata": {},
     "output_type": "execute_result"
    }
   ],
   "source": [
    "y_test.shape"
   ]
  },
  {
   "cell_type": "markdown",
   "id": "3e08e215-2995-4a18-90a0-7f0e178dd894",
   "metadata": {
    "id": "3e08e215-2995-4a18-90a0-7f0e178dd894"
   },
   "source": [
    "# Resampling with SMOTE"
   ]
  },
  {
   "cell_type": "markdown",
   "id": "550ed092-524e-48ef-844d-8a27f3b03b6f",
   "metadata": {
    "id": "550ed092-524e-48ef-844d-8a27f3b03b6f"
   },
   "source": [
    "### Logistic Regression with SMOTE"
   ]
  },
  {
   "cell_type": "code",
   "execution_count": null,
   "id": "5a31ce62-71bc-45dd-a89c-1ced413b910f",
   "metadata": {
    "colab": {
     "base_uri": "https://localhost:8080/"
    },
    "executionInfo": {
     "elapsed": 353339,
     "status": "ok",
     "timestamp": 1709134130189,
     "user": {
      "displayName": "Julie Leung",
      "userId": "16683043331109616797"
     },
     "user_tz": 300
    },
    "id": "5a31ce62-71bc-45dd-a89c-1ced413b910f",
    "outputId": "8842b1b7-ba56-4ccc-a8b7-113cdca7a099"
   },
   "outputs": [
    {
     "name": "stdout",
     "output_type": "stream",
     "text": [
      "Original dataset shape Counter({0: 2411118, 1: 483140})\n",
      "Resample dataset shape Counter({1: 2411118, 0: 2411118})\n"
     ]
    }
   ],
   "source": [
    "smote = SMOTE(random_state=88)\n",
    "\n",
    "X_train_resampled, y_train_resampled = smote.fit_resample(X_train, y_train)\n",
    "\n",
    "ss = StandardScaler()\n",
    "\n",
    "ss.fit(X_train_resampled)\n",
    "\n",
    "X_train_scaled = ss.transform(X_train_resampled)\n",
    "X_test_scaled = ss.transform(X_test)\n",
    "\n",
    "print('Original dataset shape', Counter(y_train))\n",
    "print('Resample dataset shape', Counter(y_train_resampled))"
   ]
  },
  {
   "cell_type": "code",
   "execution_count": null,
   "id": "f9ce4dde-46eb-4008-b78e-f8e7a2b63c82",
   "metadata": {
    "id": "f9ce4dde-46eb-4008-b78e-f8e7a2b63c82"
   },
   "outputs": [],
   "source": [
    "logreg = LogisticRegression() #multi_class='multinomial')"
   ]
  },
  {
   "cell_type": "code",
   "execution_count": null,
   "id": "153afc9f-514e-478d-b038-0bac518158b6",
   "metadata": {
    "colab": {
     "base_uri": "https://localhost:8080/",
     "height": 75
    },
    "executionInfo": {
     "elapsed": 14182,
     "status": "ok",
     "timestamp": 1709134144358,
     "user": {
      "displayName": "Julie Leung",
      "userId": "16683043331109616797"
     },
     "user_tz": 300
    },
    "id": "153afc9f-514e-478d-b038-0bac518158b6",
    "outputId": "bb9ca227-6678-4fb6-83d7-c9b77a6557ce"
   },
   "outputs": [
    {
     "data": {
      "text/html": [
       "<style>#sk-container-id-1 {color: black;background-color: white;}#sk-container-id-1 pre{padding: 0;}#sk-container-id-1 div.sk-toggleable {background-color: white;}#sk-container-id-1 label.sk-toggleable__label {cursor: pointer;display: block;width: 100%;margin-bottom: 0;padding: 0.3em;box-sizing: border-box;text-align: center;}#sk-container-id-1 label.sk-toggleable__label-arrow:before {content: \"▸\";float: left;margin-right: 0.25em;color: #696969;}#sk-container-id-1 label.sk-toggleable__label-arrow:hover:before {color: black;}#sk-container-id-1 div.sk-estimator:hover label.sk-toggleable__label-arrow:before {color: black;}#sk-container-id-1 div.sk-toggleable__content {max-height: 0;max-width: 0;overflow: hidden;text-align: left;background-color: #f0f8ff;}#sk-container-id-1 div.sk-toggleable__content pre {margin: 0.2em;color: black;border-radius: 0.25em;background-color: #f0f8ff;}#sk-container-id-1 input.sk-toggleable__control:checked~div.sk-toggleable__content {max-height: 200px;max-width: 100%;overflow: auto;}#sk-container-id-1 input.sk-toggleable__control:checked~label.sk-toggleable__label-arrow:before {content: \"▾\";}#sk-container-id-1 div.sk-estimator input.sk-toggleable__control:checked~label.sk-toggleable__label {background-color: #d4ebff;}#sk-container-id-1 div.sk-label input.sk-toggleable__control:checked~label.sk-toggleable__label {background-color: #d4ebff;}#sk-container-id-1 input.sk-hidden--visually {border: 0;clip: rect(1px 1px 1px 1px);clip: rect(1px, 1px, 1px, 1px);height: 1px;margin: -1px;overflow: hidden;padding: 0;position: absolute;width: 1px;}#sk-container-id-1 div.sk-estimator {font-family: monospace;background-color: #f0f8ff;border: 1px dotted black;border-radius: 0.25em;box-sizing: border-box;margin-bottom: 0.5em;}#sk-container-id-1 div.sk-estimator:hover {background-color: #d4ebff;}#sk-container-id-1 div.sk-parallel-item::after {content: \"\";width: 100%;border-bottom: 1px solid gray;flex-grow: 1;}#sk-container-id-1 div.sk-label:hover label.sk-toggleable__label {background-color: #d4ebff;}#sk-container-id-1 div.sk-serial::before {content: \"\";position: absolute;border-left: 1px solid gray;box-sizing: border-box;top: 0;bottom: 0;left: 50%;z-index: 0;}#sk-container-id-1 div.sk-serial {display: flex;flex-direction: column;align-items: center;background-color: white;padding-right: 0.2em;padding-left: 0.2em;position: relative;}#sk-container-id-1 div.sk-item {position: relative;z-index: 1;}#sk-container-id-1 div.sk-parallel {display: flex;align-items: stretch;justify-content: center;background-color: white;position: relative;}#sk-container-id-1 div.sk-item::before, #sk-container-id-1 div.sk-parallel-item::before {content: \"\";position: absolute;border-left: 1px solid gray;box-sizing: border-box;top: 0;bottom: 0;left: 50%;z-index: -1;}#sk-container-id-1 div.sk-parallel-item {display: flex;flex-direction: column;z-index: 1;position: relative;background-color: white;}#sk-container-id-1 div.sk-parallel-item:first-child::after {align-self: flex-end;width: 50%;}#sk-container-id-1 div.sk-parallel-item:last-child::after {align-self: flex-start;width: 50%;}#sk-container-id-1 div.sk-parallel-item:only-child::after {width: 0;}#sk-container-id-1 div.sk-dashed-wrapped {border: 1px dashed gray;margin: 0 0.4em 0.5em 0.4em;box-sizing: border-box;padding-bottom: 0.4em;background-color: white;}#sk-container-id-1 div.sk-label label {font-family: monospace;font-weight: bold;display: inline-block;line-height: 1.2em;}#sk-container-id-1 div.sk-label-container {text-align: center;}#sk-container-id-1 div.sk-container {/* jupyter's `normalize.less` sets `[hidden] { display: none; }` but bootstrap.min.css set `[hidden] { display: none !important; }` so we also need the `!important` here to be able to override the default hidden behavior on the sphinx rendered scikit-learn.org. See: https://github.com/scikit-learn/scikit-learn/issues/21755 */display: inline-block !important;position: relative;}#sk-container-id-1 div.sk-text-repr-fallback {display: none;}</style><div id=\"sk-container-id-1\" class=\"sk-top-container\"><div class=\"sk-text-repr-fallback\"><pre>LogisticRegression()</pre><b>In a Jupyter environment, please rerun this cell to show the HTML representation or trust the notebook. <br />On GitHub, the HTML representation is unable to render, please try loading this page with nbviewer.org.</b></div><div class=\"sk-container\" hidden><div class=\"sk-item\"><div class=\"sk-estimator sk-toggleable\"><input class=\"sk-toggleable__control sk-hidden--visually\" id=\"sk-estimator-id-1\" type=\"checkbox\" checked><label for=\"sk-estimator-id-1\" class=\"sk-toggleable__label sk-toggleable__label-arrow\">LogisticRegression</label><div class=\"sk-toggleable__content\"><pre>LogisticRegression()</pre></div></div></div></div></div>"
      ],
      "text/plain": [
       "LogisticRegression()"
      ]
     },
     "execution_count": 37,
     "metadata": {},
     "output_type": "execute_result"
    }
   ],
   "source": [
    "logreg.fit(X_train_scaled, y_train_resampled)"
   ]
  },
  {
   "cell_type": "code",
   "execution_count": null,
   "id": "572f6ae6-81ba-4f16-b6a6-f7d7e227af1d",
   "metadata": {
    "id": "572f6ae6-81ba-4f16-b6a6-f7d7e227af1d"
   },
   "outputs": [],
   "source": [
    "y_pred = logreg.predict(X_test_scaled)"
   ]
  },
  {
   "cell_type": "code",
   "execution_count": null,
   "id": "c34a2c98-5a90-4fc0-a891-1f218d1289a0",
   "metadata": {
    "colab": {
     "base_uri": "https://localhost:8080/",
     "height": 449
    },
    "executionInfo": {
     "elapsed": 701,
     "status": "ok",
     "timestamp": 1709134145055,
     "user": {
      "displayName": "Julie Leung",
      "userId": "16683043331109616797"
     },
     "user_tz": 300
    },
    "id": "c34a2c98-5a90-4fc0-a891-1f218d1289a0",
    "outputId": "d3a6b7cc-a718-4e3b-986c-ac6b0f4a98ac"
   },
   "outputs": [
    {
     "data": {
      "image/png": "[encoded data removed]",
      "text/plain": [
       "<Figure size 640x480 with 2 Axes>"
      ]
     },
     "metadata": {},
     "output_type": "display_data"
    }
   ],
   "source": [
    "ConfusionMatrixDisplay.from_estimator(logreg, X_test_scaled, y_test);"
   ]
  },
  {
   "cell_type": "code",
   "execution_count": null,
   "id": "36f73361-bbdb-4208-97fc-e408dbb18093",
   "metadata": {
    "colab": {
     "base_uri": "https://localhost:8080/"
    },
    "executionInfo": {
     "elapsed": 13,
     "status": "ok",
     "timestamp": 1709134145056,
     "user": {
      "displayName": "Julie Leung",
      "userId": "16683043331109616797"
     },
     "user_tz": 300
    },
    "id": "36f73361-bbdb-4208-97fc-e408dbb18093",
    "outputId": "10c17fb6-75f9-4955-de54-fc46f967d7fe"
   },
   "outputs": [
    {
     "data": {
      "text/plain": [
       "0.5102041662477339"
      ]
     },
     "execution_count": 40,
     "metadata": {},
     "output_type": "execute_result"
    }
   ],
   "source": [
    "(116089+376132)/(116089+376132+427585+44947)"
   ]
  },
  {
   "cell_type": "code",
   "execution_count": null,
   "id": "e2f4ec8e-e431-4e39-9238-ea0886e0fa0c",
   "metadata": {
    "colab": {
     "base_uri": "https://localhost:8080/"
    },
    "executionInfo": {
     "elapsed": 8,
     "status": "ok",
     "timestamp": 1709134145056,
     "user": {
      "displayName": "Julie Leung",
      "userId": "16683043331109616797"
     },
     "user_tz": 300
    },
    "id": "e2f4ec8e-e431-4e39-9238-ea0886e0fa0c",
    "outputId": "a23df479-101c-4dcc-cec6-c60bf04e66fc",
    "scrolled": true
   },
   "outputs": [
    {
     "data": {
      "text/plain": [
       "0.5102031297129939"
      ]
     },
     "execution_count": 41,
     "metadata": {},
     "output_type": "execute_result"
    }
   ],
   "source": [
    "metrics.accuracy_score(y_test, y_pred)"
   ]
  },
  {
   "cell_type": "code",
   "execution_count": null,
   "id": "6e0ec19a-4b0b-4ea1-a14c-27c5c62d3336",
   "metadata": {
    "colab": {
     "base_uri": "https://localhost:8080/"
    },
    "executionInfo": {
     "elapsed": 1524,
     "status": "ok",
     "timestamp": 1709134146575,
     "user": {
      "displayName": "Julie Leung",
      "userId": "16683043331109616797"
     },
     "user_tz": 300
    },
    "id": "6e0ec19a-4b0b-4ea1-a14c-27c5c62d3336",
    "outputId": "1af7e08a-6cb5-46af-f76d-f0c6267dfbea"
   },
   "outputs": [
    {
     "data": {
      "text/plain": [
       "0.7209195459400383"
      ]
     },
     "execution_count": 42,
     "metadata": {},
     "output_type": "execute_result"
    }
   ],
   "source": [
    "metrics.recall_score(y_test, y_pred)"
   ]
  },
  {
   "cell_type": "code",
   "execution_count": null,
   "id": "e8ebe5d9-1438-4bd4-926c-bc6575e0fc4e",
   "metadata": {
    "colab": {
     "base_uri": "https://localhost:8080/"
    },
    "executionInfo": {
     "elapsed": 287,
     "status": "ok",
     "timestamp": 1709134146858,
     "user": {
      "displayName": "Julie Leung",
      "userId": "16683043331109616797"
     },
     "user_tz": 300
    },
    "id": "e8ebe5d9-1438-4bd4-926c-bc6575e0fc4e",
    "outputId": "fbeccf31-439b-4b10-8370-7f20145ff42b"
   },
   "outputs": [
    {
     "data": {
      "text/plain": [
       "0.213531732528946"
      ]
     },
     "execution_count": 43,
     "metadata": {},
     "output_type": "execute_result"
    }
   ],
   "source": [
    "metrics.precision_score(y_test, y_pred)"
   ]
  },
  {
   "cell_type": "code",
   "execution_count": null,
   "id": "15bb1106-c2c4-453c-a056-0ef6eca82af7",
   "metadata": {
    "colab": {
     "base_uri": "https://localhost:8080/"
    },
    "executionInfo": {
     "elapsed": 1427,
     "status": "ok",
     "timestamp": 1709134148282,
     "user": {
      "displayName": "Julie Leung",
      "userId": "16683043331109616797"
     },
     "user_tz": 300
    },
    "id": "15bb1106-c2c4-453c-a056-0ef6eca82af7",
    "outputId": "1ae039ae-742f-4a15-c100-9dddd2ede2e8"
   },
   "outputs": [
    {
     "name": "stdout",
     "output_type": "stream",
     "text": [
      "              precision    recall  f1-score   support\n",
      "\n",
      "           0       0.89      0.47      0.61    803717\n",
      "           1       0.21      0.72      0.33    161036\n",
      "\n",
      "    accuracy                           0.51    964753\n",
      "   macro avg       0.55      0.59      0.47    964753\n",
      "weighted avg       0.78      0.51      0.57    964753\n",
      "\n"
     ]
    }
   ],
   "source": [
    "print(classification_report(y_test, y_pred))"
   ]
  },
  {
   "cell_type": "markdown",
   "id": "4ab84d25-49b5-41e6-92b1-1d230b5e3948",
   "metadata": {
    "id": "4ab84d25-49b5-41e6-92b1-1d230b5e3948"
   },
   "source": [
    "### Random Forest with SMOTE"
   ]
  },
  {
   "cell_type": "code",
   "execution_count": null,
   "id": "339e3787-9ae0-4bec-91b7-6ff92b8ed889",
   "metadata": {
    "id": "339e3787-9ae0-4bec-91b7-6ff92b8ed889"
   },
   "outputs": [],
   "source": [
    "rf = RandomForestClassifier(random_state=88)"
   ]
  },
  {
   "cell_type": "code",
   "execution_count": null,
   "id": "6740ba9c-8c2f-4c42-9476-608132f1d5f3",
   "metadata": {
    "colab": {
     "base_uri": "https://localhost:8080/",
     "height": 75
    },
    "executionInfo": {
     "elapsed": 3792370,
     "status": "ok",
     "timestamp": 1709137940648,
     "user": {
      "displayName": "Julie Leung",
      "userId": "16683043331109616797"
     },
     "user_tz": 300
    },
    "id": "6740ba9c-8c2f-4c42-9476-608132f1d5f3",
    "outputId": "4d8a5ca8-c29c-451e-f090-51d0e7d0ca28"
   },
   "outputs": [
    {
     "data": {
      "text/html": [
       "<style>#sk-container-id-2 {color: black;background-color: white;}#sk-container-id-2 pre{padding: 0;}#sk-container-id-2 div.sk-toggleable {background-color: white;}#sk-container-id-2 label.sk-toggleable__label {cursor: pointer;display: block;width: 100%;margin-bottom: 0;padding: 0.3em;box-sizing: border-box;text-align: center;}#sk-container-id-2 label.sk-toggleable__label-arrow:before {content: \"▸\";float: left;margin-right: 0.25em;color: #696969;}#sk-container-id-2 label.sk-toggleable__label-arrow:hover:before {color: black;}#sk-container-id-2 div.sk-estimator:hover label.sk-toggleable__label-arrow:before {color: black;}#sk-container-id-2 div.sk-toggleable__content {max-height: 0;max-width: 0;overflow: hidden;text-align: left;background-color: #f0f8ff;}#sk-container-id-2 div.sk-toggleable__content pre {margin: 0.2em;color: black;border-radius: 0.25em;background-color: #f0f8ff;}#sk-container-id-2 input.sk-toggleable__control:checked~div.sk-toggleable__content {max-height: 200px;max-width: 100%;overflow: auto;}#sk-container-id-2 input.sk-toggleable__control:checked~label.sk-toggleable__label-arrow:before {content: \"▾\";}#sk-container-id-2 div.sk-estimator input.sk-toggleable__control:checked~label.sk-toggleable__label {background-color: #d4ebff;}#sk-container-id-2 div.sk-label input.sk-toggleable__control:checked~label.sk-toggleable__label {background-color: #d4ebff;}#sk-container-id-2 input.sk-hidden--visually {border: 0;clip: rect(1px 1px 1px 1px);clip: rect(1px, 1px, 1px, 1px);height: 1px;margin: -1px;overflow: hidden;padding: 0;position: absolute;width: 1px;}#sk-container-id-2 div.sk-estimator {font-family: monospace;background-color: #f0f8ff;border: 1px dotted black;border-radius: 0.25em;box-sizing: border-box;margin-bottom: 0.5em;}#sk-container-id-2 div.sk-estimator:hover {background-color: #d4ebff;}#sk-container-id-2 div.sk-parallel-item::after {content: \"\";width: 100%;border-bottom: 1px solid gray;flex-grow: 1;}#sk-container-id-2 div.sk-label:hover label.sk-toggleable__label {background-color: #d4ebff;}#sk-container-id-2 div.sk-serial::before {content: \"\";position: absolute;border-left: 1px solid gray;box-sizing: border-box;top: 0;bottom: 0;left: 50%;z-index: 0;}#sk-container-id-2 div.sk-serial {display: flex;flex-direction: column;align-items: center;background-color: white;padding-right: 0.2em;padding-left: 0.2em;position: relative;}#sk-container-id-2 div.sk-item {position: relative;z-index: 1;}#sk-container-id-2 div.sk-parallel {display: flex;align-items: stretch;justify-content: center;background-color: white;position: relative;}#sk-container-id-2 div.sk-item::before, #sk-container-id-2 div.sk-parallel-item::before {content: \"\";position: absolute;border-left: 1px solid gray;box-sizing: border-box;top: 0;bottom: 0;left: 50%;z-index: -1;}#sk-container-id-2 div.sk-parallel-item {display: flex;flex-direction: column;z-index: 1;position: relative;background-color: white;}#sk-container-id-2 div.sk-parallel-item:first-child::after {align-self: flex-end;width: 50%;}#sk-container-id-2 div.sk-parallel-item:last-child::after {align-self: flex-start;width: 50%;}#sk-container-id-2 div.sk-parallel-item:only-child::after {width: 0;}#sk-container-id-2 div.sk-dashed-wrapped {border: 1px dashed gray;margin: 0 0.4em 0.5em 0.4em;box-sizing: border-box;padding-bottom: 0.4em;background-color: white;}#sk-container-id-2 div.sk-label label {font-family: monospace;font-weight: bold;display: inline-block;line-height: 1.2em;}#sk-container-id-2 div.sk-label-container {text-align: center;}#sk-container-id-2 div.sk-container {/* jupyter's `normalize.less` sets `[hidden] { display: none; }` but bootstrap.min.css set `[hidden] { display: none !important; }` so we also need the `!important` here to be able to override the default hidden behavior on the sphinx rendered scikit-learn.org. See: https://github.com/scikit-learn/scikit-learn/issues/21755 */display: inline-block !important;position: relative;}#sk-container-id-2 div.sk-text-repr-fallback {display: none;}</style><div id=\"sk-container-id-2\" class=\"sk-top-container\"><div class=\"sk-text-repr-fallback\"><pre>RandomForestClassifier(random_state=88)</pre><b>In a Jupyter environment, please rerun this cell to show the HTML representation or trust the notebook. <br />On GitHub, the HTML representation is unable to render, please try loading this page with nbviewer.org.</b></div><div class=\"sk-container\" hidden><div class=\"sk-item\"><div class=\"sk-estimator sk-toggleable\"><input class=\"sk-toggleable__control sk-hidden--visually\" id=\"sk-estimator-id-2\" type=\"checkbox\" checked><label for=\"sk-estimator-id-2\" class=\"sk-toggleable__label sk-toggleable__label-arrow\">RandomForestClassifier</label><div class=\"sk-toggleable__content\"><pre>RandomForestClassifier(random_state=88)</pre></div></div></div></div></div>"
      ],
      "text/plain": [
       "RandomForestClassifier(random_state=88)"
      ]
     },
     "execution_count": 46,
     "metadata": {},
     "output_type": "execute_result"
    }
   ],
   "source": [
    "rf.fit(X_train_resampled, y_train_resampled)"
   ]
  },
  {
   "cell_type": "code",
   "execution_count": null,
   "id": "511e5267-fbf7-4322-84d1-f7c5b2e8659e",
   "metadata": {
    "id": "511e5267-fbf7-4322-84d1-f7c5b2e8659e"
   },
   "outputs": [],
   "source": [
    "y_pred = rf.predict(X_test)"
   ]
  },
  {
   "cell_type": "code",
   "execution_count": null,
   "id": "e2161a63-2a4a-4fb5-bede-4ea3fbdae3ad",
   "metadata": {
    "colab": {
     "base_uri": "https://localhost:8080/",
     "height": 449
    },
    "executionInfo": {
     "elapsed": 102620,
     "status": "ok",
     "timestamp": 1709138146177,
     "user": {
      "displayName": "Julie Leung",
      "userId": "16683043331109616797"
     },
     "user_tz": 300
    },
    "id": "e2161a63-2a4a-4fb5-bede-4ea3fbdae3ad",
    "outputId": "74bc2e0e-9fe2-41d8-86fb-a55b190a7ab6"
   },
   "outputs": [
    {
     "data": {
      "image/png": "[encoded data removed]",
      "text/plain": [
       "<Figure size 640x480 with 2 Axes>"
      ]
     },
     "metadata": {},
     "output_type": "display_data"
    }
   ],
   "source": [
    "ConfusionMatrixDisplay.from_estimator(rf, X_test, y_test);"
   ]
  },
  {
   "cell_type": "code",
   "execution_count": null,
   "id": "f9259a62-40a6-4c47-8b9a-f6164f6c30dd",
   "metadata": {
    "colab": {
     "base_uri": "https://localhost:8080/"
    },
    "executionInfo": {
     "elapsed": 16,
     "status": "ok",
     "timestamp": 1709138146177,
     "user": {
      "displayName": "Julie Leung",
      "userId": "16683043331109616797"
     },
     "user_tz": 300
    },
    "id": "f9259a62-40a6-4c47-8b9a-f6164f6c30dd",
    "outputId": "10eb9b7d-8101-4a5a-e5c0-d2a8477c1fcc"
   },
   "outputs": [
    {
     "data": {
      "text/plain": [
       "0.8760117874730631"
      ]
     },
     "execution_count": 49,
     "metadata": {},
     "output_type": "execute_result"
    }
   ],
   "source": [
    "metrics.accuracy_score(y_test, y_pred)"
   ]
  },
  {
   "cell_type": "code",
   "execution_count": null,
   "id": "cf4170ac-f65b-4ca9-9af0-f2ea92a71bc2",
   "metadata": {
    "colab": {
     "base_uri": "https://localhost:8080/"
    },
    "executionInfo": {
     "elapsed": 9,
     "status": "ok",
     "timestamp": 1709138146178,
     "user": {
      "displayName": "Julie Leung",
      "userId": "16683043331109616797"
     },
     "user_tz": 300
    },
    "id": "cf4170ac-f65b-4ca9-9af0-f2ea92a71bc2",
    "outputId": "715986c9-3390-4ca5-8aef-26fec5a2f531"
   },
   "outputs": [
    {
     "data": {
      "text/plain": [
       "0.6984152611838347"
      ]
     },
     "execution_count": 50,
     "metadata": {},
     "output_type": "execute_result"
    }
   ],
   "source": [
    "metrics.recall_score(y_test, y_pred)"
   ]
  },
  {
   "cell_type": "code",
   "execution_count": null,
   "id": "bdf6812b-e139-4ad5-bd77-7f1e5adc3fe3",
   "metadata": {
    "colab": {
     "base_uri": "https://localhost:8080/"
    },
    "executionInfo": {
     "elapsed": 305,
     "status": "ok",
     "timestamp": 1709138146478,
     "user": {
      "displayName": "Julie Leung",
      "userId": "16683043331109616797"
     },
     "user_tz": 300
    },
    "id": "bdf6812b-e139-4ad5-bd77-7f1e5adc3fe3",
    "outputId": "13e8209a-8790-4f36-a68c-92ff4750ade3"
   },
   "outputs": [
    {
     "data": {
      "text/plain": [
       "0.6128420570830745"
      ]
     },
     "execution_count": 51,
     "metadata": {},
     "output_type": "execute_result"
    }
   ],
   "source": [
    "metrics.precision_score(y_test, y_pred)"
   ]
  },
  {
   "cell_type": "code",
   "execution_count": null,
   "id": "9fb7518f-55fe-4544-851a-9a6cb0ba6259",
   "metadata": {
    "colab": {
     "base_uri": "https://localhost:8080/"
    },
    "executionInfo": {
     "elapsed": 2120,
     "status": "ok",
     "timestamp": 1709138148596,
     "user": {
      "displayName": "Julie Leung",
      "userId": "16683043331109616797"
     },
     "user_tz": 300
    },
    "id": "9fb7518f-55fe-4544-851a-9a6cb0ba6259",
    "outputId": "bf9f80af-6cd7-4e66-f7cf-aa57e7583d90"
   },
   "outputs": [
    {
     "name": "stdout",
     "output_type": "stream",
     "text": [
      "              precision    recall  f1-score   support\n",
      "\n",
      "           0       0.94      0.91      0.92    803717\n",
      "           1       0.61      0.70      0.65    161036\n",
      "\n",
      "    accuracy                           0.88    964753\n",
      "   macro avg       0.78      0.81      0.79    964753\n",
      "weighted avg       0.88      0.88      0.88    964753\n",
      "\n"
     ]
    }
   ],
   "source": [
    "print(classification_report(y_test, y_pred))"
   ]
  },
  {
   "cell_type": "markdown",
   "id": "f40f4f7e-3b83-4393-b2cd-edf053cf2e93",
   "metadata": {
    "id": "f40f4f7e-3b83-4393-b2cd-edf053cf2e93"
   },
   "source": [
    "### Random Forest: Feature Importances"
   ]
  },
  {
   "cell_type": "code",
   "execution_count": null,
   "id": "fe54c949-801d-42fe-8bb2-e25015dd0a5c",
   "metadata": {
    "id": "fe54c949-801d-42fe-8bb2-e25015dd0a5c",
    "outputId": "7523c0ef-7a17-4ffa-e6c9-585596f6b99a"
   },
   "outputs": [
    {
     "data": {
      "text/html": [
       "<div>\n",
       "<style scoped>\n",
       "    .dataframe tbody tr th:only-of-type {\n",
       "        vertical-align: middle;\n",
       "    }\n",
       "\n",
       "    .dataframe tbody tr th {\n",
       "        vertical-align: top;\n",
       "    }\n",
       "\n",
       "    .dataframe thead th {\n",
       "        text-align: right;\n",
       "    }\n",
       "</style>\n",
       "<table border=\"1\" class=\"dataframe\">\n",
       "  <thead>\n",
       "    <tr style=\"text-align: right;\">\n",
       "      <th></th>\n",
       "      <th>feature</th>\n",
       "      <th>importance</th>\n",
       "    </tr>\n",
       "  </thead>\n",
       "  <tbody>\n",
       "    <tr>\n",
       "      <th>1</th>\n",
       "      <td>Start_Lng</td>\n",
       "      <td>0.156385</td>\n",
       "    </tr>\n",
       "    <tr>\n",
       "      <th>0</th>\n",
       "      <td>Start_Lat</td>\n",
       "      <td>0.147460</td>\n",
       "    </tr>\n",
       "    <tr>\n",
       "      <th>2</th>\n",
       "      <td>Distance(mi)</td>\n",
       "      <td>0.145527</td>\n",
       "    </tr>\n",
       "    <tr>\n",
       "      <th>9</th>\n",
       "      <td>Precipitation(in)</td>\n",
       "      <td>0.117215</td>\n",
       "    </tr>\n",
       "    <tr>\n",
       "      <th>6</th>\n",
       "      <td>Pressure(in)</td>\n",
       "      <td>0.094296</td>\n",
       "    </tr>\n",
       "    <tr>\n",
       "      <th>5</th>\n",
       "      <td>Humidity(%)</td>\n",
       "      <td>0.068135</td>\n",
       "    </tr>\n",
       "    <tr>\n",
       "      <th>4</th>\n",
       "      <td>Wind_Chill(F)</td>\n",
       "      <td>0.061770</td>\n",
       "    </tr>\n",
       "    <tr>\n",
       "      <th>3</th>\n",
       "      <td>Temperature(F)</td>\n",
       "      <td>0.058955</td>\n",
       "    </tr>\n",
       "    <tr>\n",
       "      <th>21</th>\n",
       "      <td>Traffic_Signal</td>\n",
       "      <td>0.034171</td>\n",
       "    </tr>\n",
       "    <tr>\n",
       "      <th>12</th>\n",
       "      <td>Crossing</td>\n",
       "      <td>0.027787</td>\n",
       "    </tr>\n",
       "    <tr>\n",
       "      <th>7</th>\n",
       "      <td>Visibility(mi)</td>\n",
       "      <td>0.019338</td>\n",
       "    </tr>\n",
       "    <tr>\n",
       "      <th>23</th>\n",
       "      <td>Sunset</td>\n",
       "      <td>0.014684</td>\n",
       "    </tr>\n",
       "    <tr>\n",
       "      <th>26</th>\n",
       "      <td>Astronomical_Twilight</td>\n",
       "      <td>0.011483</td>\n",
       "    </tr>\n",
       "    <tr>\n",
       "      <th>19</th>\n",
       "      <td>Stop</td>\n",
       "      <td>0.011080</td>\n",
       "    </tr>\n",
       "    <tr>\n",
       "      <th>24</th>\n",
       "      <td>Civil_Twilight</td>\n",
       "      <td>0.008769</td>\n",
       "    </tr>\n",
       "    <tr>\n",
       "      <th>25</th>\n",
       "      <td>Nautical_Twilight</td>\n",
       "      <td>0.008406</td>\n",
       "    </tr>\n",
       "    <tr>\n",
       "      <th>14</th>\n",
       "      <td>Junction</td>\n",
       "      <td>0.005697</td>\n",
       "    </tr>\n",
       "    <tr>\n",
       "      <th>18</th>\n",
       "      <td>Station</td>\n",
       "      <td>0.005089</td>\n",
       "    </tr>\n",
       "    <tr>\n",
       "      <th>10</th>\n",
       "      <td>Amenity</td>\n",
       "      <td>0.001812</td>\n",
       "    </tr>\n",
       "    <tr>\n",
       "      <th>16</th>\n",
       "      <td>Railway</td>\n",
       "      <td>0.000858</td>\n",
       "    </tr>\n",
       "    <tr>\n",
       "      <th>13</th>\n",
       "      <td>Give_Way</td>\n",
       "      <td>0.000682</td>\n",
       "    </tr>\n",
       "    <tr>\n",
       "      <th>15</th>\n",
       "      <td>No_Exit</td>\n",
       "      <td>0.000238</td>\n",
       "    </tr>\n",
       "    <tr>\n",
       "      <th>20</th>\n",
       "      <td>Traffic_Calming</td>\n",
       "      <td>0.000110</td>\n",
       "    </tr>\n",
       "    <tr>\n",
       "      <th>11</th>\n",
       "      <td>Bump</td>\n",
       "      <td>0.000039</td>\n",
       "    </tr>\n",
       "    <tr>\n",
       "      <th>8</th>\n",
       "      <td>Wind_Speed(mph)</td>\n",
       "      <td>0.000008</td>\n",
       "    </tr>\n",
       "    <tr>\n",
       "      <th>17</th>\n",
       "      <td>Roundabout</td>\n",
       "      <td>0.000007</td>\n",
       "    </tr>\n",
       "    <tr>\n",
       "      <th>22</th>\n",
       "      <td>Turning_Loop</td>\n",
       "      <td>0.000000</td>\n",
       "    </tr>\n",
       "  </tbody>\n",
       "</table>\n",
       "</div>"
      ],
      "text/plain": [
       "                  feature  importance\n",
       "1               Start_Lng    0.156385\n",
       "0               Start_Lat    0.147460\n",
       "2            Distance(mi)    0.145527\n",
       "9       Precipitation(in)    0.117215\n",
       "6            Pressure(in)    0.094296\n",
       "5             Humidity(%)    0.068135\n",
       "4           Wind_Chill(F)    0.061770\n",
       "3          Temperature(F)    0.058955\n",
       "21         Traffic_Signal    0.034171\n",
       "12               Crossing    0.027787\n",
       "7          Visibility(mi)    0.019338\n",
       "23                 Sunset    0.014684\n",
       "26  Astronomical_Twilight    0.011483\n",
       "19                   Stop    0.011080\n",
       "24         Civil_Twilight    0.008769\n",
       "25      Nautical_Twilight    0.008406\n",
       "14               Junction    0.005697\n",
       "18                Station    0.005089\n",
       "10                Amenity    0.001812\n",
       "16                Railway    0.000858\n",
       "13               Give_Way    0.000682\n",
       "15                No_Exit    0.000238\n",
       "20        Traffic_Calming    0.000110\n",
       "11                   Bump    0.000039\n",
       "8         Wind_Speed(mph)    0.000008\n",
       "17             Roundabout    0.000007\n",
       "22           Turning_Loop    0.000000"
      ]
     },
     "execution_count": 39,
     "metadata": {},
     "output_type": "execute_result"
    }
   ],
   "source": [
    "feature = X.columns.tolist()\n",
    "pd.DataFrame({'feature': feature,\n",
    "              'importance': rf.feature_importances_}).sort_values(by='importance', ascending=False)"
   ]
  },
  {
   "cell_type": "code",
   "execution_count": null,
   "id": "063ca6a1-9ab4-4053-adbf-5ffacb40bf12",
   "metadata": {
    "id": "063ca6a1-9ab4-4053-adbf-5ffacb40bf12"
   },
   "outputs": [],
   "source": []
  },
  {
   "cell_type": "markdown",
   "id": "4873d483-dbf8-4426-bfae-827b0e8c1976",
   "metadata": {
    "id": "4873d483-dbf8-4426-bfae-827b0e8c1976"
   },
   "source": [
    "# Resampling with NearMiss"
   ]
  },
  {
   "cell_type": "markdown",
   "id": "493d7bbb-2393-470d-ab03-2d5533c20239",
   "metadata": {
    "id": "493d7bbb-2393-470d-ab03-2d5533c20239"
   },
   "source": [
    "### Logistic Regression with NearMiss"
   ]
  },
  {
   "cell_type": "code",
   "execution_count": null,
   "id": "5224635e-f15d-4e6d-bb86-104dd5c2bdb9",
   "metadata": {
    "id": "5224635e-f15d-4e6d-bb86-104dd5c2bdb9",
    "outputId": "ae48453a-a8fd-462d-dc5b-a795dd8ad791"
   },
   "outputs": [
    {
     "name": "stdout",
     "output_type": "stream",
     "text": [
      "Original dataset shape Counter({0: 3214835, 1: 644176})\n",
      "Resampled dataset shape Counter({0: 483140, 1: 483140})\n"
     ]
    }
   ],
   "source": [
    "nm = NearMiss()\n",
    "X_res, y_res = nm.fit_resample(X_train, y_train)\n",
    "\n",
    "ss = StandardScaler()\n",
    "\n",
    "ss.fit(X_res)\n",
    "\n",
    "X_train_scaled = ss.transform(X_res)\n",
    "X_test_scaled = ss.transform(X_test)\n",
    "\n",
    "print('Original dataset shape %s' % Counter(y))\n",
    "print('Resampled dataset shape %s' % Counter(y_res))"
   ]
  },
  {
   "cell_type": "code",
   "execution_count": null,
   "id": "f6ddb2de-83c5-4bfe-bc21-a1d19e1a45bf",
   "metadata": {
    "id": "f6ddb2de-83c5-4bfe-bc21-a1d19e1a45bf"
   },
   "outputs": [],
   "source": [
    "logreg2 = LogisticRegression(multi_class='multinomial')"
   ]
  },
  {
   "cell_type": "code",
   "execution_count": null,
   "id": "eb83e004-fc1b-4b71-a6fa-0c110f2392e7",
   "metadata": {
    "id": "eb83e004-fc1b-4b71-a6fa-0c110f2392e7",
    "outputId": "04f14309-4353-4390-dc8e-502ffc9f9643"
   },
   "outputs": [
    {
     "data": {
      "text/html": [
       "<style>#sk-container-id-3 {color: black;}#sk-container-id-3 pre{padding: 0;}#sk-container-id-3 div.sk-toggleable {background-color: white;}#sk-container-id-3 label.sk-toggleable__label {cursor: pointer;display: block;width: 100%;margin-bottom: 0;padding: 0.3em;box-sizing: border-box;text-align: center;}#sk-container-id-3 label.sk-toggleable__label-arrow:before {content: \"▸\";float: left;margin-right: 0.25em;color: #696969;}#sk-container-id-3 label.sk-toggleable__label-arrow:hover:before {color: black;}#sk-container-id-3 div.sk-estimator:hover label.sk-toggleable__label-arrow:before {color: black;}#sk-container-id-3 div.sk-toggleable__content {max-height: 0;max-width: 0;overflow: hidden;text-align: left;background-color: #f0f8ff;}#sk-container-id-3 div.sk-toggleable__content pre {margin: 0.2em;color: black;border-radius: 0.25em;background-color: #f0f8ff;}#sk-container-id-3 input.sk-toggleable__control:checked~div.sk-toggleable__content {max-height: 200px;max-width: 100%;overflow: auto;}#sk-container-id-3 input.sk-toggleable__control:checked~label.sk-toggleable__label-arrow:before {content: \"▾\";}#sk-container-id-3 div.sk-estimator input.sk-toggleable__control:checked~label.sk-toggleable__label {background-color: #d4ebff;}#sk-container-id-3 div.sk-label input.sk-toggleable__control:checked~label.sk-toggleable__label {background-color: #d4ebff;}#sk-container-id-3 input.sk-hidden--visually {border: 0;clip: rect(1px 1px 1px 1px);clip: rect(1px, 1px, 1px, 1px);height: 1px;margin: -1px;overflow: hidden;padding: 0;position: absolute;width: 1px;}#sk-container-id-3 div.sk-estimator {font-family: monospace;background-color: #f0f8ff;border: 1px dotted black;border-radius: 0.25em;box-sizing: border-box;margin-bottom: 0.5em;}#sk-container-id-3 div.sk-estimator:hover {background-color: #d4ebff;}#sk-container-id-3 div.sk-parallel-item::after {content: \"\";width: 100%;border-bottom: 1px solid gray;flex-grow: 1;}#sk-container-id-3 div.sk-label:hover label.sk-toggleable__label {background-color: #d4ebff;}#sk-container-id-3 div.sk-serial::before {content: \"\";position: absolute;border-left: 1px solid gray;box-sizing: border-box;top: 0;bottom: 0;left: 50%;z-index: 0;}#sk-container-id-3 div.sk-serial {display: flex;flex-direction: column;align-items: center;background-color: white;padding-right: 0.2em;padding-left: 0.2em;position: relative;}#sk-container-id-3 div.sk-item {position: relative;z-index: 1;}#sk-container-id-3 div.sk-parallel {display: flex;align-items: stretch;justify-content: center;background-color: white;position: relative;}#sk-container-id-3 div.sk-item::before, #sk-container-id-3 div.sk-parallel-item::before {content: \"\";position: absolute;border-left: 1px solid gray;box-sizing: border-box;top: 0;bottom: 0;left: 50%;z-index: -1;}#sk-container-id-3 div.sk-parallel-item {display: flex;flex-direction: column;z-index: 1;position: relative;background-color: white;}#sk-container-id-3 div.sk-parallel-item:first-child::after {align-self: flex-end;width: 50%;}#sk-container-id-3 div.sk-parallel-item:last-child::after {align-self: flex-start;width: 50%;}#sk-container-id-3 div.sk-parallel-item:only-child::after {width: 0;}#sk-container-id-3 div.sk-dashed-wrapped {border: 1px dashed gray;margin: 0 0.4em 0.5em 0.4em;box-sizing: border-box;padding-bottom: 0.4em;background-color: white;}#sk-container-id-3 div.sk-label label {font-family: monospace;font-weight: bold;display: inline-block;line-height: 1.2em;}#sk-container-id-3 div.sk-label-container {text-align: center;}#sk-container-id-3 div.sk-container {/* jupyter's `normalize.less` sets `[hidden] { display: none; }` but bootstrap.min.css set `[hidden] { display: none !important; }` so we also need the `!important` here to be able to override the default hidden behavior on the sphinx rendered scikit-learn.org. See: https://github.com/scikit-learn/scikit-learn/issues/21755 */display: inline-block !important;position: relative;}#sk-container-id-3 div.sk-text-repr-fallback {display: none;}</style><div id=\"sk-container-id-3\" class=\"sk-top-container\"><div class=\"sk-text-repr-fallback\"><pre>LogisticRegression(multi_class=&#x27;multinomial&#x27;)</pre><b>In a Jupyter environment, please rerun this cell to show the HTML representation or trust the notebook. <br />On GitHub, the HTML representation is unable to render, please try loading this page with nbviewer.org.</b></div><div class=\"sk-container\" hidden><div class=\"sk-item\"><div class=\"sk-estimator sk-toggleable\"><input class=\"sk-toggleable__control sk-hidden--visually\" id=\"sk-estimator-id-3\" type=\"checkbox\" checked><label for=\"sk-estimator-id-3\" class=\"sk-toggleable__label sk-toggleable__label-arrow\">LogisticRegression</label><div class=\"sk-toggleable__content\"><pre>LogisticRegression(multi_class=&#x27;multinomial&#x27;)</pre></div></div></div></div></div>"
      ],
      "text/plain": [
       "LogisticRegression(multi_class='multinomial')"
      ]
     },
     "execution_count": 32,
     "metadata": {},
     "output_type": "execute_result"
    }
   ],
   "source": [
    "logreg2.fit(X_train_scaled, y_res)"
   ]
  },
  {
   "cell_type": "code",
   "execution_count": null,
   "id": "612b6127-b1ab-4887-b5cc-b30ee7a5276c",
   "metadata": {
    "id": "612b6127-b1ab-4887-b5cc-b30ee7a5276c"
   },
   "outputs": [],
   "source": [
    "y_pred = logreg2.predict(X_test_scaled)"
   ]
  },
  {
   "cell_type": "code",
   "execution_count": null,
   "id": "45802cb1-daf8-4caf-9937-9b5fd4068472",
   "metadata": {
    "id": "45802cb1-daf8-4caf-9937-9b5fd4068472",
    "outputId": "4244f2a3-56a8-43a0-a91e-dd1648ecd879"
   },
   "outputs": [
    {
     "data": {
      "image/png": "[encoded data removed]",
      "text/plain": [
       "<Figure size 640x480 with 2 Axes>"
      ]
     },
     "metadata": {},
     "output_type": "display_data"
    }
   ],
   "source": [
    "ConfusionMatrixDisplay.from_estimator(logreg2, X_test_scaled, y_test);"
   ]
  },
  {
   "cell_type": "code",
   "execution_count": null,
   "id": "8017cb9a-6e57-4e87-a0cd-c090873b72f1",
   "metadata": {
    "id": "8017cb9a-6e57-4e87-a0cd-c090873b72f1",
    "outputId": "b9e814fb-8156-4ba8-8b61-df8fc4117475"
   },
   "outputs": [
    {
     "data": {
      "text/plain": [
       "0.3878661170268452"
      ]
     },
     "execution_count": 35,
     "metadata": {},
     "output_type": "execute_result"
    }
   ],
   "source": [
    "metrics.accuracy_score(y_test, y_pred)"
   ]
  },
  {
   "cell_type": "code",
   "execution_count": null,
   "id": "3f7eec18-1903-488d-b704-d20e4952c8cc",
   "metadata": {
    "id": "3f7eec18-1903-488d-b704-d20e4952c8cc",
    "outputId": "51db4f43-b726-42d3-bff0-1aa0f5aefbc8"
   },
   "outputs": [
    {
     "name": "stdout",
     "output_type": "stream",
     "text": [
      "              precision    recall  f1-score   support\n",
      "\n",
      "           0       0.81      0.35      0.49    803717\n",
      "           1       0.15      0.59      0.24    161036\n",
      "\n",
      "    accuracy                           0.39    964753\n",
      "   macro avg       0.48      0.47      0.36    964753\n",
      "weighted avg       0.70      0.39      0.45    964753\n",
      "\n"
     ]
    }
   ],
   "source": [
    "print(classification_report(y_test, y_pred))"
   ]
  },
  {
   "cell_type": "markdown",
   "id": "c09c0a8f-213a-4bc4-9f2e-3a5bc3b722ce",
   "metadata": {
    "id": "c09c0a8f-213a-4bc4-9f2e-3a5bc3b722ce"
   },
   "source": [
    "### Random Forest with NearMiss"
   ]
  },
  {
   "cell_type": "code",
   "execution_count": null,
   "id": "f0d77a52-510e-47db-be06-19610d95c0c3",
   "metadata": {
    "id": "f0d77a52-510e-47db-be06-19610d95c0c3"
   },
   "outputs": [],
   "source": [
    "rf_nearmiss = RandomForestClassifier(random_state=88)"
   ]
  },
  {
   "cell_type": "code",
   "execution_count": null,
   "id": "97a5bbbc-7a4f-4a75-8f40-ba0371bfd688",
   "metadata": {
    "id": "97a5bbbc-7a4f-4a75-8f40-ba0371bfd688",
    "outputId": "3d8e940e-a957-41ed-8b25-d24686d3dfbc"
   },
   "outputs": [
    {
     "data": {
      "text/html": [
       "<style>#sk-container-id-4 {color: black;}#sk-container-id-4 pre{padding: 0;}#sk-container-id-4 div.sk-toggleable {background-color: white;}#sk-container-id-4 label.sk-toggleable__label {cursor: pointer;display: block;width: 100%;margin-bottom: 0;padding: 0.3em;box-sizing: border-box;text-align: center;}#sk-container-id-4 label.sk-toggleable__label-arrow:before {content: \"▸\";float: left;margin-right: 0.25em;color: #696969;}#sk-container-id-4 label.sk-toggleable__label-arrow:hover:before {color: black;}#sk-container-id-4 div.sk-estimator:hover label.sk-toggleable__label-arrow:before {color: black;}#sk-container-id-4 div.sk-toggleable__content {max-height: 0;max-width: 0;overflow: hidden;text-align: left;background-color: #f0f8ff;}#sk-container-id-4 div.sk-toggleable__content pre {margin: 0.2em;color: black;border-radius: 0.25em;background-color: #f0f8ff;}#sk-container-id-4 input.sk-toggleable__control:checked~div.sk-toggleable__content {max-height: 200px;max-width: 100%;overflow: auto;}#sk-container-id-4 input.sk-toggleable__control:checked~label.sk-toggleable__label-arrow:before {content: \"▾\";}#sk-container-id-4 div.sk-estimator input.sk-toggleable__control:checked~label.sk-toggleable__label {background-color: #d4ebff;}#sk-container-id-4 div.sk-label input.sk-toggleable__control:checked~label.sk-toggleable__label {background-color: #d4ebff;}#sk-container-id-4 input.sk-hidden--visually {border: 0;clip: rect(1px 1px 1px 1px);clip: rect(1px, 1px, 1px, 1px);height: 1px;margin: -1px;overflow: hidden;padding: 0;position: absolute;width: 1px;}#sk-container-id-4 div.sk-estimator {font-family: monospace;background-color: #f0f8ff;border: 1px dotted black;border-radius: 0.25em;box-sizing: border-box;margin-bottom: 0.5em;}#sk-container-id-4 div.sk-estimator:hover {background-color: #d4ebff;}#sk-container-id-4 div.sk-parallel-item::after {content: \"\";width: 100%;border-bottom: 1px solid gray;flex-grow: 1;}#sk-container-id-4 div.sk-label:hover label.sk-toggleable__label {background-color: #d4ebff;}#sk-container-id-4 div.sk-serial::before {content: \"\";position: absolute;border-left: 1px solid gray;box-sizing: border-box;top: 0;bottom: 0;left: 50%;z-index: 0;}#sk-container-id-4 div.sk-serial {display: flex;flex-direction: column;align-items: center;background-color: white;padding-right: 0.2em;padding-left: 0.2em;position: relative;}#sk-container-id-4 div.sk-item {position: relative;z-index: 1;}#sk-container-id-4 div.sk-parallel {display: flex;align-items: stretch;justify-content: center;background-color: white;position: relative;}#sk-container-id-4 div.sk-item::before, #sk-container-id-4 div.sk-parallel-item::before {content: \"\";position: absolute;border-left: 1px solid gray;box-sizing: border-box;top: 0;bottom: 0;left: 50%;z-index: -1;}#sk-container-id-4 div.sk-parallel-item {display: flex;flex-direction: column;z-index: 1;position: relative;background-color: white;}#sk-container-id-4 div.sk-parallel-item:first-child::after {align-self: flex-end;width: 50%;}#sk-container-id-4 div.sk-parallel-item:last-child::after {align-self: flex-start;width: 50%;}#sk-container-id-4 div.sk-parallel-item:only-child::after {width: 0;}#sk-container-id-4 div.sk-dashed-wrapped {border: 1px dashed gray;margin: 0 0.4em 0.5em 0.4em;box-sizing: border-box;padding-bottom: 0.4em;background-color: white;}#sk-container-id-4 div.sk-label label {font-family: monospace;font-weight: bold;display: inline-block;line-height: 1.2em;}#sk-container-id-4 div.sk-label-container {text-align: center;}#sk-container-id-4 div.sk-container {/* jupyter's `normalize.less` sets `[hidden] { display: none; }` but bootstrap.min.css set `[hidden] { display: none !important; }` so we also need the `!important` here to be able to override the default hidden behavior on the sphinx rendered scikit-learn.org. See: https://github.com/scikit-learn/scikit-learn/issues/21755 */display: inline-block !important;position: relative;}#sk-container-id-4 div.sk-text-repr-fallback {display: none;}</style><div id=\"sk-container-id-4\" class=\"sk-top-container\"><div class=\"sk-text-repr-fallback\"><pre>RandomForestClassifier(random_state=88)</pre><b>In a Jupyter environment, please rerun this cell to show the HTML representation or trust the notebook. <br />On GitHub, the HTML representation is unable to render, please try loading this page with nbviewer.org.</b></div><div class=\"sk-container\" hidden><div class=\"sk-item\"><div class=\"sk-estimator sk-toggleable\"><input class=\"sk-toggleable__control sk-hidden--visually\" id=\"sk-estimator-id-4\" type=\"checkbox\" checked><label for=\"sk-estimator-id-4\" class=\"sk-toggleable__label sk-toggleable__label-arrow\">RandomForestClassifier</label><div class=\"sk-toggleable__content\"><pre>RandomForestClassifier(random_state=88)</pre></div></div></div></div></div>"
      ],
      "text/plain": [
       "RandomForestClassifier(random_state=88)"
      ]
     },
     "execution_count": 38,
     "metadata": {},
     "output_type": "execute_result"
    }
   ],
   "source": [
    "rf_nearmiss.fit(X_res, y_res)"
   ]
  },
  {
   "cell_type": "code",
   "execution_count": null,
   "id": "35929d49-eab2-44dc-821b-af8cd5af827f",
   "metadata": {
    "id": "35929d49-eab2-44dc-821b-af8cd5af827f"
   },
   "outputs": [],
   "source": [
    "y_pred = rf_nearmiss.predict(X_test)"
   ]
  },
  {
   "cell_type": "code",
   "execution_count": null,
   "id": "dc079ed4-1f80-401b-adf3-5c29bd72a50e",
   "metadata": {
    "id": "dc079ed4-1f80-401b-adf3-5c29bd72a50e",
    "outputId": "b36cc7c8-1983-4afe-9791-42d424c4f829",
    "scrolled": true
   },
   "outputs": [
    {
     "data": {
      "image/png": "[encoded data removed]",
      "text/plain": [
       "<Figure size 640x480 with 2 Axes>"
      ]
     },
     "metadata": {},
     "output_type": "display_data"
    }
   ],
   "source": [
    "ConfusionMatrixDisplay.from_estimator(rf_nearmiss, X_test, y_test);"
   ]
  },
  {
   "cell_type": "code",
   "execution_count": null,
   "id": "09370a8d-556b-4a24-beaf-7fb1fbf9d654",
   "metadata": {
    "id": "09370a8d-556b-4a24-beaf-7fb1fbf9d654",
    "outputId": "af98114a-8194-45ec-ad04-2381abf11606"
   },
   "outputs": [
    {
     "data": {
      "text/plain": [
       "0.44691128195507035"
      ]
     },
     "execution_count": 47,
     "metadata": {},
     "output_type": "execute_result"
    }
   ],
   "source": [
    "metrics.accuracy_score(y_test, y_pred)"
   ]
  },
  {
   "cell_type": "code",
   "execution_count": null,
   "id": "b99e8460-2b57-4b99-a86a-9e23202cefde",
   "metadata": {
    "id": "b99e8460-2b57-4b99-a86a-9e23202cefde",
    "outputId": "f28f2ad9-0911-4729-909f-6c7e29049209",
    "scrolled": true
   },
   "outputs": [
    {
     "name": "stdout",
     "output_type": "stream",
     "text": [
      "              precision    recall  f1-score   support\n",
      "\n",
      "           0       0.94      0.36      0.52    803717\n",
      "           1       0.22      0.88      0.35    161036\n",
      "\n",
      "    accuracy                           0.45    964753\n",
      "   macro avg       0.58      0.62      0.43    964753\n",
      "weighted avg       0.82      0.45      0.49    964753\n",
      "\n"
     ]
    }
   ],
   "source": [
    "print(classification_report(y_test, y_pred))"
   ]
  },
  {
   "cell_type": "markdown",
   "id": "f8690e71-6a21-4fbe-9c8d-b81445f9fb1e",
   "metadata": {
    "id": "f8690e71-6a21-4fbe-9c8d-b81445f9fb1e"
   },
   "source": [
    "### Random Forest: Feature Importances"
   ]
  },
  {
   "cell_type": "code",
   "execution_count": null,
   "id": "d11b70d8-9212-4fc5-ad55-fc440ea816cb",
   "metadata": {
    "id": "d11b70d8-9212-4fc5-ad55-fc440ea816cb",
    "outputId": "ff79a614-3500-4438-9d6c-a1a374a79df6"
   },
   "outputs": [
    {
     "data": {
      "text/html": [
       "<div>\n",
       "<style scoped>\n",
       "    .dataframe tbody tr th:only-of-type {\n",
       "        vertical-align: middle;\n",
       "    }\n",
       "\n",
       "    .dataframe tbody tr th {\n",
       "        vertical-align: top;\n",
       "    }\n",
       "\n",
       "    .dataframe thead th {\n",
       "        text-align: right;\n",
       "    }\n",
       "</style>\n",
       "<table border=\"1\" class=\"dataframe\">\n",
       "  <thead>\n",
       "    <tr style=\"text-align: right;\">\n",
       "      <th></th>\n",
       "      <th>feature</th>\n",
       "      <th>importance</th>\n",
       "    </tr>\n",
       "  </thead>\n",
       "  <tbody>\n",
       "    <tr>\n",
       "      <th>1</th>\n",
       "      <td>Start_Lng</td>\n",
       "      <td>0.198433</td>\n",
       "    </tr>\n",
       "    <tr>\n",
       "      <th>0</th>\n",
       "      <td>Start_Lat</td>\n",
       "      <td>0.195587</td>\n",
       "    </tr>\n",
       "    <tr>\n",
       "      <th>2</th>\n",
       "      <td>Distance(mi)</td>\n",
       "      <td>0.157610</td>\n",
       "    </tr>\n",
       "    <tr>\n",
       "      <th>6</th>\n",
       "      <td>Pressure(in)</td>\n",
       "      <td>0.089615</td>\n",
       "    </tr>\n",
       "    <tr>\n",
       "      <th>5</th>\n",
       "      <td>Humidity(%)</td>\n",
       "      <td>0.084358</td>\n",
       "    </tr>\n",
       "    <tr>\n",
       "      <th>3</th>\n",
       "      <td>Temperature(F)</td>\n",
       "      <td>0.079748</td>\n",
       "    </tr>\n",
       "    <tr>\n",
       "      <th>4</th>\n",
       "      <td>Wind_Chill(F)</td>\n",
       "      <td>0.056862</td>\n",
       "    </tr>\n",
       "    <tr>\n",
       "      <th>9</th>\n",
       "      <td>Precipitation(in)</td>\n",
       "      <td>0.035635</td>\n",
       "    </tr>\n",
       "    <tr>\n",
       "      <th>7</th>\n",
       "      <td>Visibility(mi)</td>\n",
       "      <td>0.033531</td>\n",
       "    </tr>\n",
       "    <tr>\n",
       "      <th>23</th>\n",
       "      <td>Sunset</td>\n",
       "      <td>0.016694</td>\n",
       "    </tr>\n",
       "    <tr>\n",
       "      <th>14</th>\n",
       "      <td>Junction</td>\n",
       "      <td>0.016640</td>\n",
       "    </tr>\n",
       "    <tr>\n",
       "      <th>21</th>\n",
       "      <td>Traffic_Signal</td>\n",
       "      <td>0.008147</td>\n",
       "    </tr>\n",
       "    <tr>\n",
       "      <th>24</th>\n",
       "      <td>Civil_Twilight</td>\n",
       "      <td>0.006474</td>\n",
       "    </tr>\n",
       "    <tr>\n",
       "      <th>12</th>\n",
       "      <td>Crossing</td>\n",
       "      <td>0.005772</td>\n",
       "    </tr>\n",
       "    <tr>\n",
       "      <th>26</th>\n",
       "      <td>Astronomical_Twilight</td>\n",
       "      <td>0.004571</td>\n",
       "    </tr>\n",
       "    <tr>\n",
       "      <th>25</th>\n",
       "      <td>Nautical_Twilight</td>\n",
       "      <td>0.002842</td>\n",
       "    </tr>\n",
       "    <tr>\n",
       "      <th>18</th>\n",
       "      <td>Station</td>\n",
       "      <td>0.002503</td>\n",
       "    </tr>\n",
       "    <tr>\n",
       "      <th>19</th>\n",
       "      <td>Stop</td>\n",
       "      <td>0.002057</td>\n",
       "    </tr>\n",
       "    <tr>\n",
       "      <th>16</th>\n",
       "      <td>Railway</td>\n",
       "      <td>0.001233</td>\n",
       "    </tr>\n",
       "    <tr>\n",
       "      <th>13</th>\n",
       "      <td>Give_Way</td>\n",
       "      <td>0.000724</td>\n",
       "    </tr>\n",
       "    <tr>\n",
       "      <th>10</th>\n",
       "      <td>Amenity</td>\n",
       "      <td>0.000512</td>\n",
       "    </tr>\n",
       "    <tr>\n",
       "      <th>15</th>\n",
       "      <td>No_Exit</td>\n",
       "      <td>0.000307</td>\n",
       "    </tr>\n",
       "    <tr>\n",
       "      <th>20</th>\n",
       "      <td>Traffic_Calming</td>\n",
       "      <td>0.000083</td>\n",
       "    </tr>\n",
       "    <tr>\n",
       "      <th>11</th>\n",
       "      <td>Bump</td>\n",
       "      <td>0.000057</td>\n",
       "    </tr>\n",
       "    <tr>\n",
       "      <th>8</th>\n",
       "      <td>Wind_Speed(mph)</td>\n",
       "      <td>0.000005</td>\n",
       "    </tr>\n",
       "    <tr>\n",
       "      <th>17</th>\n",
       "      <td>Roundabout</td>\n",
       "      <td>0.000001</td>\n",
       "    </tr>\n",
       "    <tr>\n",
       "      <th>22</th>\n",
       "      <td>Turning_Loop</td>\n",
       "      <td>0.000000</td>\n",
       "    </tr>\n",
       "  </tbody>\n",
       "</table>\n",
       "</div>"
      ],
      "text/plain": [
       "                  feature  importance\n",
       "1               Start_Lng    0.198433\n",
       "0               Start_Lat    0.195587\n",
       "2            Distance(mi)    0.157610\n",
       "6            Pressure(in)    0.089615\n",
       "5             Humidity(%)    0.084358\n",
       "3          Temperature(F)    0.079748\n",
       "4           Wind_Chill(F)    0.056862\n",
       "9       Precipitation(in)    0.035635\n",
       "7          Visibility(mi)    0.033531\n",
       "23                 Sunset    0.016694\n",
       "14               Junction    0.016640\n",
       "21         Traffic_Signal    0.008147\n",
       "24         Civil_Twilight    0.006474\n",
       "12               Crossing    0.005772\n",
       "26  Astronomical_Twilight    0.004571\n",
       "25      Nautical_Twilight    0.002842\n",
       "18                Station    0.002503\n",
       "19                   Stop    0.002057\n",
       "16                Railway    0.001233\n",
       "13               Give_Way    0.000724\n",
       "10                Amenity    0.000512\n",
       "15                No_Exit    0.000307\n",
       "20        Traffic_Calming    0.000083\n",
       "11                   Bump    0.000057\n",
       "8         Wind_Speed(mph)    0.000005\n",
       "17             Roundabout    0.000001\n",
       "22           Turning_Loop    0.000000"
      ]
     },
     "execution_count": 42,
     "metadata": {},
     "output_type": "execute_result"
    }
   ],
   "source": [
    "feature = X.columns.tolist()\n",
    "pd.DataFrame({'feature': feature,\n",
    "              'importance': rf_nearmiss.feature_importances_}).sort_values(by='importance', ascending=False)"
   ]
  },
  {
   "cell_type": "markdown",
   "id": "1143f543-2b21-4244-95cc-98e0eca7dfcb",
   "metadata": {
    "id": "1143f543-2b21-4244-95cc-98e0eca7dfcb"
   },
   "source": [
    "NearMiss is ineffective in addressing class imbalance. The accuracy scores for both Logistic Regression and Random Forest were less than 50% compared with SMOTE with accuracy scores above 50%. Thus, I will be using SMOTE for subsequent models."
   ]
  },
  {
   "cell_type": "markdown",
   "id": "e1ac0567-be4a-42f5-bdf3-d7d1a6fb5fd6",
   "metadata": {
    "id": "e1ac0567-be4a-42f5-bdf3-d7d1a6fb5fd6"
   },
   "source": [
    "# Tuning Hyperparameters with GridSearchCV"
   ]
  },
  {
   "cell_type": "code",
   "execution_count": null,
   "id": "bd38cd08-9676-476a-ab4f-507121b9510a",
   "metadata": {
    "id": "bd38cd08-9676-476a-ab4f-507121b9510a",
    "outputId": "5f7e4523-7c5c-4789-ccad-d6b810c3da0a"
   },
   "outputs": [
    {
     "name": "stdout",
     "output_type": "stream",
     "text": [
      "Counter({0: 3214835, 1: 644176})\n"
     ]
    }
   ],
   "source": [
    "counter = Counter(y)\n",
    "print(counter)"
   ]
  },
  {
   "cell_type": "code",
   "execution_count": null,
   "id": "f23bd226-f8e2-460c-897d-8fa095090061",
   "metadata": {
    "id": "f23bd226-f8e2-460c-897d-8fa095090061"
   },
   "outputs": [],
   "source": [
    "pipe = Pipeline([('random_forest', RandomForestClassifier(random_state=88))])\n",
    "\n",
    "params = {'random_forest__n_estimators': np.arange(20,100,40),\n",
    "          'random_forest__criterion':['entropy'],\n",
    "          'random_forest__max_depth': np.arange(8,12,2)}\n",
    "          # 'random_forest__max_features': np.arange(18,30,4)}\n",
    "\n",
    "grid = GridSearchCV(pipe, param_grid=params, cv=5)\n",
    "grid.fit(X_train_resampled, y_train_resampled)"
   ]
  },
  {
   "cell_type": "code",
   "execution_count": null,
   "id": "05a14df9-a270-45a5-b57a-549ae0b5e08f",
   "metadata": {
    "id": "05a14df9-a270-45a5-b57a-549ae0b5e08f"
   },
   "outputs": [],
   "source": [
    "best_est = grid.best_estimator_\n",
    "best_est"
   ]
  },
  {
   "cell_type": "code",
   "execution_count": null,
   "id": "9fba7225-718b-48c8-ab87-ab74cdf31220",
   "metadata": {
    "id": "9fba7225-718b-48c8-ab87-ab74cdf31220"
   },
   "outputs": [],
   "source": []
  }
 ],
 "metadata": {
  "colab": {
   "collapsed_sections": [
    "4873d483-dbf8-4426-bfae-827b0e8c1976"
   ],
   "machine_shape": "hm",
   "provenance": []
  },
  "kernelspec": {
   "display_name": "Python (learn-env)",
   "language": "python",
   "name": "learn-env"
  },
  "language_info": {
   "codemirror_mode": {
    "name": "ipython",
    "version": 3
   },
   "file_extension": ".py",
   "mimetype": "text/x-python",
   "name": "python",
   "nbconvert_exporter": "python",
   "pygments_lexer": "ipython3",
   "version": "3.9.18"
  }
 },
 "nbformat": 4,
 "nbformat_minor": 5
}
